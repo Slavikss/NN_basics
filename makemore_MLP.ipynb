{
 "cells": [
  {
   "cell_type": "markdown",
   "id": "1fd94cc1",
   "metadata": {},
   "source": [
    "### Building MLP based makemore(https://www.jmlr.org/papers/volume3/bengio03a/bengio03a.pdf)"
   ]
  },
  {
   "cell_type": "code",
   "execution_count": 1,
   "id": "c2d2cecc",
   "metadata": {},
   "outputs": [],
   "source": [
    "import torch\n",
    "import torch.nn.functional as F\n",
    "import matplotlib.pyplot as plt\n",
    "%matplotlib inline"
   ]
  },
  {
   "cell_type": "code",
   "execution_count": 3,
   "id": "d8bea4d2",
   "metadata": {},
   "outputs": [
    {
     "data": {
      "text/plain": [
       "['emma', 'olivia', 'ava', 'isabella', 'sophia', 'charlotte', 'mia', 'amelia']"
      ]
     },
     "execution_count": 3,
     "metadata": {},
     "output_type": "execute_result"
    }
   ],
   "source": [
    "words  = open('names.txt', 'r').read().splitlines()\n",
    "words[:8]"
   ]
  },
  {
   "cell_type": "code",
   "execution_count": 6,
   "id": "6419a49a",
   "metadata": {},
   "outputs": [
    {
     "name": "stdout",
     "output_type": "stream",
     "text": [
      "stoi={'a': 1, 'b': 2, 'c': 3, 'd': 4, 'e': 5, 'f': 6, 'g': 7, 'h': 8, 'i': 9, 'j': 10, 'k': 11, 'l': 12, 'm': 13, 'n': 14, 'o': 15, 'p': 16, 'q': 17, 'r': 18, 's': 19, 't': 20, 'u': 21, 'v': 22, 'w': 23, 'x': 24, 'y': 25, 'z': 26, '.': 0}\n",
      "itos={1: 'a', 2: 'b', 3: 'c', 4: 'd', 5: 'e', 6: 'f', 7: 'g', 8: 'h', 9: 'i', 10: 'j', 11: 'k', 12: 'l', 13: 'm', 14: 'n', 15: 'o', 16: 'p', 17: 'q', 18: 'r', 19: 's', 20: 't', 21: 'u', 22: 'v', 23: 'w', 24: 'x', 25: 'y', 26: 'z', 0: '.'}\n"
     ]
    }
   ],
   "source": [
    "# build vocabulary of chars and mapping tofrom integers\n",
    "chars = sorted(list(set(''.join(words))))\n",
    "stoi = {s:i+1 for i,s in enumerate(chars)}\n",
    "stoi['.'] = 0\n",
    "itos = {i:s for s,i in stoi.items()}\n",
    "print(f'{stoi=}')\n",
    "print(f'{itos=}')"
   ]
  },
  {
   "cell_type": "code",
   "execution_count": 114,
   "id": "75c09576",
   "metadata": {},
   "outputs": [],
   "source": [
    "# build the dataset\n",
    "\n",
    "block_size = 3 # context length: how many chars we take to predict next one?\n",
    "X, Y = [], []\n",
    "for w in words:\n",
    "    \n",
    "    #print(w)\n",
    "    context = [0] * block_size\n",
    "    for ch in w + '.':\n",
    "        ix = stoi[ch]\n",
    "        X.append(context)\n",
    "        Y.append(ix)\n",
    "        #print(''.join(itos[i] for i in context), '--->', itos[ix])\n",
    "        context = context[1:] + [ix] # crop and append\n",
    "        \n",
    "X = torch.tensor(X)\n",
    "Y = torch.tensor(Y)"
   ]
  },
  {
   "cell_type": "code",
   "execution_count": 100,
   "id": "b14d53e1",
   "metadata": {},
   "outputs": [
    {
     "data": {
      "text/plain": [
       "(torch.Size([32, 3]), torch.Size([32]))"
      ]
     },
     "execution_count": 100,
     "metadata": {},
     "output_type": "execute_result"
    }
   ],
   "source": [
    "X.shape, Y.shape"
   ]
  },
  {
   "cell_type": "code",
   "execution_count": 101,
   "id": "7a960f09",
   "metadata": {},
   "outputs": [
    {
     "data": {
      "text/plain": [
       "tensor([[ 0,  0,  0],\n",
       "        [ 0,  0,  5],\n",
       "        [ 0,  5, 13],\n",
       "        [ 5, 13, 13],\n",
       "        [13, 13,  1]])"
      ]
     },
     "execution_count": 101,
     "metadata": {},
     "output_type": "execute_result"
    }
   ],
   "source": [
    "X[:5]"
   ]
  },
  {
   "cell_type": "code",
   "execution_count": 102,
   "id": "795bebab",
   "metadata": {},
   "outputs": [
    {
     "data": {
      "text/plain": [
       "tensor([ 5, 13, 13,  1,  0])"
      ]
     },
     "execution_count": 102,
     "metadata": {},
     "output_type": "execute_result"
    }
   ],
   "source": [
    "Y[:5]"
   ]
  },
  {
   "cell_type": "code",
   "execution_count": 103,
   "id": "394b77f6",
   "metadata": {},
   "outputs": [
    {
     "data": {
      "text/plain": [
       "torch.Size([32, 3, 2])"
      ]
     },
     "execution_count": 103,
     "metadata": {},
     "output_type": "execute_result"
    }
   ],
   "source": [
    "# build lookup table \n",
    "C = torch.randn((27,2))\n",
    "\n",
    "emb = C[X]\n",
    "emb.shape"
   ]
  },
  {
   "cell_type": "code",
   "execution_count": 104,
   "id": "802c6c47",
   "metadata": {},
   "outputs": [],
   "source": [
    "# init weights and biases for layer 1\n",
    "W1 = torch.randn((6, 100)) # 100 is hyperparameter of size of neural net\n",
    "b1 = torch.randn(100)"
   ]
  },
  {
   "cell_type": "code",
   "execution_count": 105,
   "id": "263bc4ee",
   "metadata": {},
   "outputs": [],
   "source": [
    "# 1st way to tansform dataset into 32*6 tensor\n",
    "#torch.cat(torch.unbind(emb, 1), 1)\n",
    "\n",
    "# more efficient way to trasform tensor\n",
    "#emb.view(*number of train set*,6)"
   ]
  },
  {
   "cell_type": "code",
   "execution_count": 106,
   "id": "bbbf636c",
   "metadata": {},
   "outputs": [
    {
     "data": {
      "text/plain": [
       "tensor([[ 1.0000, -0.9958,  0.8568,  ..., -0.9978, -0.9841, -1.0000],\n",
       "        [ 0.9999, -0.9795,  0.9290,  ..., -0.9960, -0.9988, -1.0000],\n",
       "        [ 0.9979, -0.2649,  0.9997,  ...,  0.1274, -0.9999, -0.9936],\n",
       "        ...,\n",
       "        [ 1.0000,  0.0117,  0.9997,  ...,  0.9931, -0.1114, -0.8357],\n",
       "        [-0.9447,  0.9976,  0.8795,  ..., -0.9471,  0.9627, -0.9107],\n",
       "        [ 0.9961,  0.8966,  0.9982,  ...,  0.6770, -0.9315, -0.9866]])"
      ]
     },
     "execution_count": 106,
     "metadata": {},
     "output_type": "execute_result"
    }
   ],
   "source": [
    "# hidden layer that represents matmul of embeddings and weights + biases\n",
    "h = torch.tanh(emb.view(-1,6) @ W1 + b1)\n",
    "\n",
    "h"
   ]
  },
  {
   "cell_type": "code",
   "execution_count": 107,
   "id": "18faaf7c",
   "metadata": {},
   "outputs": [],
   "source": [
    "# init weights and biases for layer 2\n",
    "\n",
    "W2 = torch.randn((100, 27)) # 100 is hyperparameter of size of neural net\n",
    "b2 = torch.randn(27)"
   ]
  },
  {
   "cell_type": "code",
   "execution_count": 108,
   "id": "17c9b1c0",
   "metadata": {},
   "outputs": [],
   "source": [
    "logits = h @ W2 + b2\n",
    "\n",
    "#logits"
   ]
  },
  {
   "cell_type": "code",
   "execution_count": 109,
   "id": "8a2321f6",
   "metadata": {},
   "outputs": [],
   "source": [
    "counts = logits.exp()"
   ]
  },
  {
   "cell_type": "code",
   "execution_count": 110,
   "id": "d11c9e8d",
   "metadata": {},
   "outputs": [],
   "source": [
    "prob = counts / counts.sum(1, keepdims = True)"
   ]
  },
  {
   "cell_type": "code",
   "execution_count": 111,
   "id": "935bb8a6",
   "metadata": {},
   "outputs": [
    {
     "data": {
      "text/plain": [
       "torch.Size([32, 27])"
      ]
     },
     "execution_count": 111,
     "metadata": {},
     "output_type": "execute_result"
    }
   ],
   "source": [
    "prob.shape"
   ]
  },
  {
   "cell_type": "code",
   "execution_count": 112,
   "id": "6fbb3dc9",
   "metadata": {},
   "outputs": [
    {
     "data": {
      "text/plain": [
       "tensor([1.8333e-10, 3.1095e-11, 1.9762e-12, 1.1045e-06, 2.0953e-01, 2.2093e-09,\n",
       "        1.6495e-06, 1.0569e-12, 1.5310e-08, 2.1861e-06, 6.0590e-09, 6.2601e-04,\n",
       "        9.5118e-01, 1.2274e-08, 6.3685e-01, 3.9300e-01, 1.1806e-07, 9.8643e-01,\n",
       "        9.9385e-07, 4.0490e-03, 3.9729e-07, 9.9995e-01, 2.3302e-04, 6.9496e-06,\n",
       "        8.5545e-12, 2.5875e-11, 1.5552e-04, 4.8448e-03, 2.0878e-11, 8.1605e-11,\n",
       "        2.7780e-13, 3.9962e-06])"
      ]
     },
     "execution_count": 112,
     "metadata": {},
     "output_type": "execute_result"
    }
   ],
   "source": [
    "# prob for next char(currently bad)\n",
    "prob[torch.arange(32), Y]"
   ]
  },
  {
   "cell_type": "code",
   "execution_count": 113,
   "id": "d446cb52",
   "metadata": {},
   "outputs": [
    {
     "name": "stdout",
     "output_type": "stream",
     "text": [
      "avg log-ikelihood loss- tensor(14.0638)\n"
     ]
    }
   ],
   "source": [
    "loss = -prob[torch.arange(32), Y].log().mean()\n",
    "\n",
    "print('avg log-ikelihood loss-',loss)"
   ]
  },
  {
   "cell_type": "code",
   "execution_count": 70,
   "id": "dd4c5ca4",
   "metadata": {},
   "outputs": [],
   "source": [
    "# -----------more readable-----------"
   ]
  },
  {
   "cell_type": "code",
   "execution_count": 115,
   "id": "9cbe4c51",
   "metadata": {},
   "outputs": [
    {
     "data": {
      "text/plain": [
       "(torch.Size([228146, 3]), torch.Size([228146]))"
      ]
     },
     "execution_count": 115,
     "metadata": {},
     "output_type": "execute_result"
    }
   ],
   "source": [
    "X.shape, Y.shape"
   ]
  },
  {
   "cell_type": "code",
   "execution_count": 474,
   "id": "04840f72",
   "metadata": {},
   "outputs": [],
   "source": [
    "g = torch.Generator().manual_seed(2147483647)\n",
    "C = torch.randn((27,10), generator = g)\n",
    "W1 = torch.randn((30, 200), generator = g)\n",
    "b1 = torch.randn(200, generator = g)\n",
    "W2 = torch.randn((200, 27), generator = g)\n",
    "b2 = torch.randn(27, generator = g)\n",
    "parameters = [C, W1, b1, W2, b2]"
   ]
  },
  {
   "cell_type": "code",
   "execution_count": 475,
   "id": "737f0558",
   "metadata": {},
   "outputs": [
    {
     "name": "stdout",
     "output_type": "stream",
     "text": [
      "number of parameters total - 11897\n"
     ]
    }
   ],
   "source": [
    "print(f'number of parameters total - {sum(p.nelement() for p in parameters)}')"
   ]
  },
  {
   "cell_type": "code",
   "execution_count": 476,
   "id": "0215370f",
   "metadata": {},
   "outputs": [],
   "source": [
    "for p in parameters: p.requires_grad = True"
   ]
  },
  {
   "cell_type": "code",
   "execution_count": 481,
   "id": "10309b95",
   "metadata": {},
   "outputs": [
    {
     "name": "stdout",
     "output_type": "stream",
     "text": [
      "1.825774073600769\n"
     ]
    }
   ],
   "source": [
    "steps = 10000\n",
    "for _ in range(steps):\n",
    "    \n",
    "    # minibatch construct\n",
    "    ix = torch.randint(0, X.shape[0], (32,))\n",
    "    \n",
    "    # forward pass\n",
    "    emb = C[X[ix]] # 32*3*2 in case of block_size = 3 and train size 32\n",
    "    h = torch.tanh(emb.view(-1,30) @ W1 + b1)\n",
    "    logits = h @ W2 + b2 # 32 * 27\n",
    "    loss = F.cross_entropy(logits, Y[ix]) # more respectable for classification(what we are doing)\n",
    "    \n",
    "    #backward pass\n",
    "    for p in parameters: p.grad = None\n",
    "    loss.backward()\n",
    "\n",
    "    # update\n",
    "    for p in parameters: p.data += -0.01 * p.grad\n",
    "        \n",
    "print(loss.item())"
   ]
  },
  {
   "cell_type": "code",
   "execution_count": 482,
   "id": "a390070b",
   "metadata": {},
   "outputs": [
    {
     "name": "stdout",
     "output_type": "stream",
     "text": [
      "2.192397117614746\n"
     ]
    }
   ],
   "source": [
    "emb = C[X] # 32*3*2 in case of block_size = 3 and train size 32\n",
    "h = torch.tanh(emb.view(-1,30) @ W1 + b1)\n",
    "logits = h @ W2 + b2 # 32 * 27\n",
    "loss = F.cross_entropy(logits, Y) # more respectable for classification(what we are doing)\n",
    "print(loss.item())"
   ]
  },
  {
   "cell_type": "markdown",
   "id": "13d14282",
   "metadata": {},
   "source": [
    "## finding optimal initial lr"
   ]
  },
  {
   "cell_type": "code",
   "execution_count": 232,
   "id": "2732dcef",
   "metadata": {},
   "outputs": [
    {
     "data": {
      "text/plain": [
       "tensor([0.0010, 0.0010, 0.0010, 0.0010, 0.0010, 0.0010, 0.0010, 0.0010, 0.0011,\n",
       "        0.0011])"
      ]
     },
     "execution_count": 232,
     "metadata": {},
     "output_type": "execute_result"
    }
   ],
   "source": [
    "lre = torch.linspace(-3,0, 1000)\n",
    "lrs = 10**lre\n",
    "lrs[:10]"
   ]
  },
  {
   "cell_type": "code",
   "execution_count": 233,
   "id": "d9d9b847",
   "metadata": {},
   "outputs": [],
   "source": [
    "lri = []\n",
    "lossi = []\n",
    "\n",
    "for i in range(1000):\n",
    "    \n",
    "    # minibatch construct\n",
    "    ix = torch.randint(0, X.shape[0], (32,))\n",
    "    \n",
    "    # forward pass\n",
    "    emb = C[X[ix]] # 32*3*2 in case of block_size = 3 and train size 32\n",
    "    h = torch.tanh(emb.view(-1,6) @ W1 + b1)\n",
    "    logits = h @ W2 + b2 # 32 * 27\n",
    "    loss = F.cross_entropy(logits, Y[ix]) # more respectable for classification(what we are doing)\n",
    "    #print(loss.item())\n",
    "    \n",
    "    #backward pass\n",
    "    for p in parameters: p.grad = None\n",
    "    loss.backward()\n",
    "\n",
    "    # update\n",
    "    lr = lrs[i]\n",
    "    for p in parameters: p.data += -lr * p.grad\n",
    "        \n",
    "    # track stats\n",
    "    lri.append(lre[i])\n",
    "    lossi.append(loss.item())"
   ]
  },
  {
   "cell_type": "code",
   "execution_count": 234,
   "id": "2bd73bce",
   "metadata": {},
   "outputs": [
    {
     "data": {
      "text/plain": [
       "[<matplotlib.lines.Line2D at 0x2744dc79cf0>]"
      ]
     },
     "execution_count": 234,
     "metadata": {},
     "output_type": "execute_result"
    },
    {
     "data": {
      "image/png": "[encoded data removed]",
      "text/plain": [
       "<Figure size 640x480 with 1 Axes>"
      ]
     },
     "metadata": {},
     "output_type": "display_data"
    }
   ],
   "source": [
    "plt.plot(lri,lossi)"
   ]
  },
  {
   "cell_type": "code",
   "execution_count": 235,
   "id": "61e4f3ab",
   "metadata": {},
   "outputs": [],
   "source": [
    "# optimal lr is 0.1"
   ]
  },
  {
   "cell_type": "code",
   "execution_count": 483,
   "id": "378682f3",
   "metadata": {},
   "outputs": [
    {
     "data": {
      "image/png": "[encoded data removed]",
      "text/plain": [
       "<Figure size 800x800 with 1 Axes>"
      ]
     },
     "metadata": {},
     "output_type": "display_data"
    }
   ],
   "source": [
    "# visualize dimensions 0 and 1 of the embedding matrix C for all characters\n",
    "plt.figure(figsize=(8,8))\n",
    "plt.scatter(C[:,0].data, C[:,1].data, s=200)\n",
    "for i in range(C.shape[0]):\n",
    "    plt.text(C[i,0].item(), C[i,1].item(), itos[i], ha=\"center\", va=\"center\", color='white')\n",
    "plt.grid('minor')"
   ]
  },
  {
   "cell_type": "code",
   "execution_count": 484,
   "id": "9ed3cfc7",
   "metadata": {},
   "outputs": [
    {
     "name": "stdout",
     "output_type": "stream",
     "text": [
      "carmah.\n",
      "aar.\n",
      "hari.\n",
      "kemri.\n",
      "rehty.\n",
      "salaysa.\n",
      "jazonte.\n",
      "deliah.\n",
      "jageli.\n",
      "nellana.\n",
      "chaiivia.\n",
      "legg.\n",
      "dham.\n",
      "joce.\n",
      "quintis.\n",
      "lilea.\n",
      "jadiquo.\n",
      "jero.\n",
      "dearuxiphi.\n",
      "eveighan.\n"
     ]
    }
   ],
   "source": [
    "# sample from the model\n",
    "g = torch.Generator().manual_seed(2147483647 + 10)\n",
    "\n",
    "for _ in range(20):\n",
    "    \n",
    "    out = []\n",
    "    context = [0] * block_size # initialize with all ...\n",
    "    while True:\n",
    "      emb = C[torch.tensor([context])] # (1,block_size,d)\n",
    "      h = torch.tanh(emb.view(1, -1) @ W1 + b1)\n",
    "      logits = h @ W2 + b2\n",
    "      probs = F.softmax(logits, dim=1)\n",
    "      ix = torch.multinomial(probs, num_samples=1, generator=g).item()\n",
    "      context = context[1:] + [ix]\n",
    "      out.append(ix)\n",
    "      if ix == 0:\n",
    "        break\n",
    "    \n",
    "    print(''.join(itos[i] for i in out))"
   ]
  }
 ],
 "metadata": {
  "kernelspec": {
   "display_name": "Python 3 (ipykernel)",
   "language": "python",
   "name": "python3"
  },
  "language_info": {
   "codemirror_mode": {
    "name": "ipython",
    "version": 3
   },
   "file_extension": ".py",
   "mimetype": "text/x-python",
   "name": "python",
   "nbconvert_exporter": "python",
   "pygments_lexer": "ipython3",
   "version": "3.10.6"
  }
 },
 "nbformat": 4,
 "nbformat_minor": 5
}
